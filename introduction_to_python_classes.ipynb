{
 "cells": [
  {
   "cell_type": "markdown",
   "id": "legal-petroleum",
   "metadata": {},
   "source": [
    "# Python Classes\n",
    "### Alex Gigliotti\n",
    "\n",
    "Classes and their associated concepts are very useful for organizing and maintaining modular code. Once a software or code has multiple parts, it is a good idea to structure it with classes to be organized and find bugs quickly.\n",
    "\n",
    "There are three important key words/concepts to know when using Python classes:\n",
    "1) Classes \\\n",
    "2) Objects \\\n",
    "3) Inheritance\n",
    "\n",
    "Here are two sources that are good at explaining the important aspects of Python classes: \\\n",
    "https://www.w3schools.com/python/python_classes.asp \\\n",
    "https://www.w3schools.com/python/python_inheritance.asp"
   ]
  },
  {
   "cell_type": "markdown",
   "id": "pleased-baltimore",
   "metadata": {},
   "source": [
    "## An Example Class"
   ]
  },
  {
   "cell_type": "code",
   "execution_count": 31,
   "id": "temporal-russian",
   "metadata": {},
   "outputs": [],
   "source": [
    "class AnExampleClass():\n",
    "    \n",
    "    def __init__(self):  # Any function in a class must have self (or name it whatever you like) as the first argument\n",
    "        self.test_variable = 'hello!'  # 'self' is a sort of identifier for anything inside the class\n",
    "        print(self.test_variable)\n",
    "        \n",
    "        return\n",
    "    \n",
    "    def a_test_function(self):\n",
    "        \n",
    "        test_var = self.test_variable\n",
    "        print(test_var, \"From the test function!\")\n",
    "        \n",
    "        return\n",
    "    "
   ]
  },
  {
   "cell_type": "code",
   "execution_count": 32,
   "id": "social-roberts",
   "metadata": {},
   "outputs": [
    {
     "name": "stdout",
     "output_type": "stream",
     "text": [
      "hello!\n"
     ]
    }
   ],
   "source": [
    "aec = AnExampleClass()"
   ]
  },
  {
   "cell_type": "code",
   "execution_count": 21,
   "id": "advanced-circular",
   "metadata": {},
   "outputs": [
    {
     "name": "stdout",
     "output_type": "stream",
     "text": [
      "hello! From the test function!\n"
     ]
    }
   ],
   "source": [
    "aec.a_test_function()"
   ]
  },
  {
   "cell_type": "code",
   "execution_count": 79,
   "id": "functioning-aquarium",
   "metadata": {},
   "outputs": [],
   "source": [
    "class ClassWithoutInitFunction():\n",
    "    \n",
    "    def another_function(self):\n",
    "        \n",
    "        print(\"If you don't need to initialize with anything, you can exclude __init__()\")\n",
    "        \n",
    "    def functions_running_functions(self):\n",
    "        \n",
    "        print(\"running 'another_function()' from here!\")\n",
    "        self.another_function()\n",
    "        \n",
    "        return"
   ]
  },
  {
   "cell_type": "code",
   "execution_count": 80,
   "id": "interstate-figure",
   "metadata": {},
   "outputs": [],
   "source": [
    "cwif = ClassWithoutInitFunction()"
   ]
  },
  {
   "cell_type": "code",
   "execution_count": 78,
   "id": "complete-sierra",
   "metadata": {},
   "outputs": [
    {
     "name": "stdout",
     "output_type": "stream",
     "text": [
      "If you don't need to initialize with anything, you can exclude __init__()\n"
     ]
    }
   ],
   "source": [
    "cwif.another_function()"
   ]
  },
  {
   "cell_type": "code",
   "execution_count": 81,
   "id": "limited-kuwait",
   "metadata": {},
   "outputs": [
    {
     "name": "stdout",
     "output_type": "stream",
     "text": [
      "running 'another_function()' from here!\n",
      "If you don't need to initialize with anything, you can exclude __init__()\n"
     ]
    }
   ],
   "source": [
    "cwif.functions_running_functions()"
   ]
  },
  {
   "cell_type": "markdown",
   "id": "functioning-therapy",
   "metadata": {},
   "source": [
    "## What is inheritance?"
   ]
  },
  {
   "cell_type": "code",
   "execution_count": 82,
   "id": "piano-sellers",
   "metadata": {},
   "outputs": [],
   "source": [
    "class Rock():  # A parent class\n",
    "    \n",
    "    def __init__(self, name, density, hardness):\n",
    "        \n",
    "        self.name = name\n",
    "        self.density = density\n",
    "        self.hardness = hardness\n",
    "        \n",
    "        return\n",
    "    \n",
    "    def other_properties(self):\n",
    "        \n",
    "        if self.name == 'granite':\n",
    "            print(\"This is\", self.name)\n",
    "        else:\n",
    "            print(\"This is not granite.\")\n",
    "        \n",
    "        return\n",
    "    \n",
    "\n",
    "class MetamorphicRock(Rock):  # A child class\n",
    "    \n",
    "    def __init__(self, name, density, hardness, foliation):\n",
    "        super().__init__(name, density, hardness)  # super() is a way of inheriting all functions and properties from the parent\n",
    "        self.foliation = foliation\n",
    "        \n",
    "        return\n",
    "    \n",
    "\n",
    "class IgneousRock(Rock):\n",
    "    \n",
    "    def __init__(self, name, density, hardness, felsic):\n",
    "        super().__init__(name, density, hardness)\n",
    "        self.felsic = felsic\n",
    "        self.mafic = !felsic\n",
    "        \n",
    "        return\n",
    "  \n"
   ]
  },
  {
   "cell_type": "code",
   "execution_count": 83,
   "id": "scheduled-satisfaction",
   "metadata": {},
   "outputs": [],
   "source": [
    "granite = Rock('granite', 2.75, 6.5)\n",
    "marble = MetamorphicRock('marble', 2.6, 3, False)"
   ]
  },
  {
   "cell_type": "code",
   "execution_count": 84,
   "id": "hired-earthquake",
   "metadata": {},
   "outputs": [
    {
     "name": "stdout",
     "output_type": "stream",
     "text": [
      "granite\n",
      "2.75\n",
      "6.5\n"
     ]
    }
   ],
   "source": [
    "print(granite.name)\n",
    "print(granite.density)\n",
    "print(granite.hardness)"
   ]
  },
  {
   "cell_type": "code",
   "execution_count": 85,
   "id": "distant-phone",
   "metadata": {},
   "outputs": [
    {
     "name": "stdout",
     "output_type": "stream",
     "text": [
      "marble\n",
      "2.6\n",
      "3\n",
      "False\n"
     ]
    }
   ],
   "source": [
    "print(marble.name)\n",
    "print(marble.density)\n",
    "print(marble.hardness)\n",
    "print(marble.foliation)"
   ]
  },
  {
   "cell_type": "code",
   "execution_count": 65,
   "id": "urban-corpus",
   "metadata": {},
   "outputs": [
    {
     "name": "stdout",
     "output_type": "stream",
     "text": [
      "This is granite\n"
     ]
    }
   ],
   "source": [
    "granite.other_properties()"
   ]
  },
  {
   "cell_type": "code",
   "execution_count": 86,
   "id": "descending-plymouth",
   "metadata": {},
   "outputs": [
    {
     "name": "stdout",
     "output_type": "stream",
     "text": [
      "This is not granite.\n"
     ]
    }
   ],
   "source": [
    "marble.other_properties()"
   ]
  },
  {
   "cell_type": "markdown",
   "id": "assisted-boating",
   "metadata": {},
   "source": [
    "## Practice\n",
    "\n",
    "Complete the constructor for the `SedimentaryRock` class, by taking in all the inputs for `Rock` and add grain_size as an input."
   ]
  },
  {
   "cell_type": "code",
   "execution_count": 69,
   "id": "surrounded-tucson",
   "metadata": {},
   "outputs": [],
   "source": [
    "class SedimentaryRock(Rock):\n",
    "    \n",
    "    def __init__(self):\n",
    "        pass"
   ]
  },
  {
   "cell_type": "code",
   "execution_count": 70,
   "id": "biological-partnership",
   "metadata": {},
   "outputs": [
    {
     "ename": "TypeError",
     "evalue": "__init__() takes 1 positional argument but 5 were given",
     "output_type": "error",
     "traceback": [
      "\u001b[0;31m---------------------------------------------------------------------------\u001b[0m",
      "\u001b[0;31mTypeError\u001b[0m                                 Traceback (most recent call last)",
      "\u001b[0;32m<ipython-input-70-a5e28b27cbc5>\u001b[0m in \u001b[0;36m<module>\u001b[0;34m\u001b[0m\n\u001b[0;32m----> 1\u001b[0;31m \u001b[0msandstone\u001b[0m \u001b[0;34m=\u001b[0m \u001b[0mSedimentaryRock\u001b[0m\u001b[0;34m(\u001b[0m\u001b[0;34m'sand'\u001b[0m\u001b[0;34m,\u001b[0m \u001b[0;36m2.65\u001b[0m\u001b[0;34m,\u001b[0m \u001b[0;36m7\u001b[0m\u001b[0;34m,\u001b[0m \u001b[0;36m1\u001b[0m\u001b[0;34m)\u001b[0m\u001b[0;34m\u001b[0m\u001b[0;34m\u001b[0m\u001b[0m\n\u001b[0m",
      "\u001b[0;31mTypeError\u001b[0m: __init__() takes 1 positional argument but 5 were given"
     ]
    }
   ],
   "source": [
    "sandstone = SedimentaryRock('sand', 2.65, 7, 1)"
   ]
  },
  {
   "cell_type": "code",
   "execution_count": 71,
   "id": "right-possible",
   "metadata": {},
   "outputs": [
    {
     "name": "stdout",
     "output_type": "stream",
     "text": [
      "sand\n",
      "2.65\n",
      "7\n",
      "1\n"
     ]
    }
   ],
   "source": [
    "print(sandstone.name)\n",
    "print(sandstone.density)\n",
    "print(sandstone.hardness)\n",
    "print(sandstone.grain_size)"
   ]
  },
  {
   "cell_type": "code",
   "execution_count": null,
   "id": "outer-humor",
   "metadata": {},
   "outputs": [],
   "source": []
  }
 ],
 "metadata": {
  "kernelspec": {
   "display_name": "Python 3",
   "language": "python",
   "name": "python3"
  },
  "language_info": {
   "codemirror_mode": {
    "name": "ipython",
    "version": 3
   },
   "file_extension": ".py",
   "mimetype": "text/x-python",
   "name": "python",
   "nbconvert_exporter": "python",
   "pygments_lexer": "ipython3",
   "version": "3.7.9"
  }
 },
 "nbformat": 4,
 "nbformat_minor": 5
}
